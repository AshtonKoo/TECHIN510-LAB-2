{
 "cells": [
  {
   "cell_type": "code",
   "execution_count": 2,
   "metadata": {},
   "outputs": [
    {
     "name": "stdout",
     "output_type": "stream",
     "text": [
      "Data saved to events.csv\n"
     ]
    }
   ],
   "source": [
    "import requests\n",
    "from bs4 import BeautifulSoup\n",
    "import csv\n",
    "\n",
    "urls = []\n",
    "\n",
    "for x in range(1, 30):\n",
    "    url = \"https://visitseattle.org/events/page/\" + str(x)\n",
    "    res = requests.get(url)\n",
    "    soup = BeautifulSoup(res.text, \"html.parser\")\n",
    "    selector = \"div.search-result-preview > div > h3 > a\"\n",
    "    a_eles = soup.select(selector)\n",
    "    urls.extend([x['href'] for x in a_eles])\n",
    "\n",
    "def get_event_details(url):\n",
    "    response = requests.get(url)\n",
    "    soup = BeautifulSoup(response.content, 'html.parser')\n",
    "    title = soup.select_one('h1.page-title').text.strip()\n",
    "    date_location = soup.select_one('div.medium-6.columns.event-top > h4').text.split('|')\n",
    "    date = date_location[0].strip()\n",
    "    location = date_location[1].strip()\n",
    "    event_type = soup.select_one('a.button.big.medium.black.category').text.strip()\n",
    "    return {\n",
    "        'title': title,\n",
    "        'date': date,\n",
    "        'location': location,\n",
    "        'type': event_type\n",
    "    }\n",
    "\n",
    "event_details = [get_event_details(url) for url in urls]\n",
    "\n",
    "def get_location_coordinates(location_name):\n",
    "    base_url = \"https://nominatim.openstreetmap.org/search.php\"\n",
    "    query_params = {\"q\": location_name, \"format\": \"jsonv2\"}\n",
    "    response = requests.get(base_url, params=query_params)\n",
    "    location_data = response.json()\n",
    "    if location_data:\n",
    "        lat = location_data[0]['lat']\n",
    "        lon = location_data[0]['lon']\n",
    "        return lat, lon\n",
    "    else:\n",
    "        return None, None\n",
    "\n",
    "def get_weather_forecast(lat, lon):\n",
    "    url = f\"https://api.weather.gov/points/{lat},{lon}\"\n",
    "    res = requests.get(url)\n",
    "    if res.status_code != 200:\n",
    "        return 'Weather data not available'\n",
    "    point_dict = res.json()\n",
    "    if 'properties' in point_dict and 'forecast' in point_dict['properties']:\n",
    "        forecast_url = point_dict['properties']['forecast']\n",
    "        forecast_res = requests.get(forecast_url)\n",
    "        if forecast_res.status_code == 200:\n",
    "            forecast_data = forecast_res.json()\n",
    "            return forecast_data['properties']['periods'][0]['detailedForecast']\n",
    "    return 'Weather data not available'\n",
    "\n",
    "for event in event_details:\n",
    "    lat, lon = get_location_coordinates(event['location'])\n",
    "    if lat is None or lon is None:\n",
    "        event['weather'] = 'Location coordinates not available'\n",
    "    else:\n",
    "        event['latitude'] = lat\n",
    "        event['longitude'] = lon\n",
    "        event['weather'] = get_weather_forecast(lat, lon)\n",
    "\n",
    "csv_file_path = 'events.csv'\n",
    "\n",
    "headers = ['title', 'date', 'location', 'type', 'latitude', 'longitude', 'weather']\n",
    "\n",
    "with open(csv_file_path, mode='w', newline='', encoding='utf-8') as file:\n",
    "    writer = csv.DictWriter(file, fieldnames=headers)\n",
    "    writer.writeheader()\n",
    "    for event in event_details:\n",
    "        writer.writerow(event)\n",
    "\n",
    "print(f\"Data saved to {csv_file_path}\")\n"
   ]
  }
 ],
 "metadata": {
  "kernelspec": {
   "display_name": "base",
   "language": "python",
   "name": "python3"
  },
  "language_info": {
   "codemirror_mode": {
    "name": "ipython",
    "version": 3
   },
   "file_extension": ".py",
   "mimetype": "text/x-python",
   "name": "python",
   "nbconvert_exporter": "python",
   "pygments_lexer": "ipython3",
   "version": "3.11.5"
  },
  "orig_nbformat": 4
 },
 "nbformat": 4,
 "nbformat_minor": 2
}
